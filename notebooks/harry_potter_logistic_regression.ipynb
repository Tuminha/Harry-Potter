{
  "cells": [
    {
      "cell_type": "markdown",
      "metadata": {},
      "source": [
        "# 🪄 Harry Potter Fan Fiction Logistic Regression Analysis\n",
        "\n",
        "## Learning Objectives\n",
        "\n",
        "In this notebook, you'll learn to:\n",
        "- Build logistic regression models with **interaction terms** (capturing how variables work together)\n",
        "- Create **polynomial terms** (quadratic) to model non-linear relationships\n",
        "- Compare **StatsModels** and **scikit-learn** approaches to logistic regression\n",
        "- Interpret model coefficients and assess model performance\n",
        "- Understand how complex relationships in data can be captured through feature engineering\n",
        "\n",
        "## Dataset Overview\n",
        "\n",
        "We're working with a cleaned subset of Harry Potter fan fiction data from [fanfiction.net](https://www.fanfiction.net/book/Harry-Potter/). The dataset contains:\n",
        "\n",
        "**Quantitative Variables:**\n",
        "- `words` - Number of words in the story\n",
        "- `reviews` - Number of reviews the story received\n",
        "- `favorites` - Number of readers who favorited the story\n",
        "- `follows` - Number of readers who follow the story\n",
        "\n",
        "**Binary Categorical Variables (1 = True, 0 = False):**\n",
        "- `harry` - Harry is a character in the story\n",
        "- `hermione` - Hermione is a character in the story\n",
        "- `multiple` - The story has multiple chapters\n",
        "- `english` - The story is in English\n",
        "- `humor` - The story's genre is humor\n",
        "\n",
        "**Goal:** Predict whether a fan fiction story is \"popular\" based on its characteristics using logistic regression with interaction and polynomial terms.\n"
      ]
    },
    {
      "cell_type": "markdown",
      "metadata": {},
      "source": [
        "## Phase 1: Setup and Imports\n",
        "\n",
        "First, let's import all the libraries we'll need for this analysis.\n"
      ]
    },
    {
      "cell_type": "code",
      "execution_count": 1,
      "metadata": {},
      "outputs": [],
      "source": [
        "# TODO: Import all necessary libraries\n",
        "# Hint: You'll need pandas for data manipulation, numpy for numerical operations,\n",
        "# matplotlib and seaborn for visualization, statsmodels for logistic regression,\n",
        "# and sklearn for additional modeling and evaluation tools\n",
        "\n",
        "# Write your import statements here:\n"
      ]
    },
    {
      "cell_type": "markdown",
      "metadata": {},
      "source": [
        "## Phase 2: Data Loading and Initial Exploration\n",
        "\n",
        "Understanding your data is the foundation of any good analysis. Let's start by loading the dataset and getting familiar with its structure.\n"
      ]
    },
    {
      "cell_type": "code",
      "execution_count": 2,
      "metadata": {},
      "outputs": [],
      "source": [
        "# TODO: Load the Harry Potter fan fiction dataset\n",
        "# Hint: Use pandas' read_csv() function to load 'hp.csv' from the data directory\n",
        "# Store the result in a variable called 'hp'\n",
        "\n",
        "# Write your code here:\n"
      ]
    },
    {
      "cell_type": "code",
      "execution_count": 3,
      "metadata": {},
      "outputs": [],
      "source": [
        "# TODO: Display the first few rows of the dataset\n",
        "# Hint: Use the .head() method to see the first 5 rows\n",
        "\n",
        "# Write your code here:\n"
      ]
    },
    {
      "cell_type": "code",
      "execution_count": 4,
      "metadata": {},
      "outputs": [],
      "source": [
        "# TODO: Check the shape and basic info about the dataset\n",
        "# Hint: Use .shape to see dimensions and .info() to see data types\n",
        "\n",
        "# Write your code here:\n"
      ]
    },
    {
      "cell_type": "code",
      "execution_count": 5,
      "metadata": {},
      "outputs": [],
      "source": [
        "# TODO: Check for missing values\n",
        "# Hint: Use .isnull().sum() to count missing values in each column\n",
        "\n",
        "# Write your code here:\n"
      ]
    },
    {
      "cell_type": "code",
      "execution_count": 6,
      "metadata": {},
      "outputs": [],
      "source": [
        "# TODO: Generate descriptive statistics for all variables\n",
        "# Hint: Use .describe() to get summary statistics like mean, median, std, etc.\n",
        "\n",
        "# Write your code here:\n"
      ]
    },
    {
      "cell_type": "markdown",
      "metadata": {},
      "source": [
        "## Phase 3: Exploratory Data Analysis (EDA)\n",
        "\n",
        "Exploratory Data Analysis is crucial before building any model. It helps us understand patterns, relationships, and potential issues in our data. This understanding will guide our feature engineering decisions.\n"
      ]
    },
    {
      "cell_type": "code",
      "execution_count": 7,
      "metadata": {},
      "outputs": [],
      "source": [
        "# TODO: Create distribution plots for quantitative variables\n",
        "# Hint: Use seaborn's histplot() or displot() to visualize distributions\n",
        "# Plot distributions for: words, reviews, favorites, follows\n",
        "# Consider using subplots to show multiple distributions at once\n",
        "\n",
        "# Write your code here:\n"
      ]
    },
    {
      "cell_type": "code",
      "execution_count": 8,
      "metadata": {},
      "outputs": [],
      "source": [
        "# TODO: Create count plots for binary categorical variables\n",
        "# Hint: Use seaborn's countplot() to show the distribution of 0s and 1s\n",
        "# Plot for: harry, hermione, multiple, english, humor\n",
        "\n",
        "# Write your code here:\n"
      ]
    },
    {
      "cell_type": "code",
      "execution_count": 9,
      "metadata": {},
      "outputs": [],
      "source": [
        "# TODO: Create scatter plots to explore relationships between quantitative variables\n",
        "# Hint: Use seaborn's scatterplot() or pairplot()\n",
        "# Focus on key relationships like: words vs reviews, favorites vs follows, words vs favorites\n",
        "# Look for potential non-linear patterns that might benefit from polynomial terms\n",
        "\n",
        "# Write your code here:\n"
      ]
    },
    {
      "cell_type": "code",
      "execution_count": 10,
      "metadata": {},
      "outputs": [],
      "source": [
        "# TODO: Generate a correlation heatmap for quantitative variables\n",
        "# Hint: Use pandas' .corr() method to calculate correlations, then seaborn's heatmap() to visualize\n",
        "# Consider adding annotations to show correlation values\n",
        "\n",
        "# Write your code here:\n"
      ]
    },
    {
      "cell_type": "markdown",
      "metadata": {},
      "source": [
        "### Reflection Questions:\n",
        "1. What patterns do you notice in the distributions? Are there any variables with skewed distributions?\n",
        "2. Which quantitative variables seem most correlated with each other?\n",
        "3. Are there any relationships that look non-linear (curved rather than straight)?\n",
        "4. How balanced are the binary variables? Are some characters more common than others?\n"
      ]
    },
    {
      "cell_type": "markdown",
      "metadata": {},
      "source": [
        "## Phase 4: Target Variable Creation\n",
        "\n",
        "Logistic regression requires a binary outcome variable. Since we want to predict story popularity, we need to define what makes a story \"popular\" based on the engagement metrics available (favorites, follows, reviews).\n",
        "\n",
        "**Think about it:** What would make a fan fiction story popular? High number of favorites? Many followers? Lots of reviews? A combination of these?\n"
      ]
    },
    {
      "cell_type": "code",
      "execution_count": 11,
      "metadata": {},
      "outputs": [],
      "source": [
        "# TODO: Explore the distribution of engagement metrics\n",
        "# Hint: Look at the distribution of favorites, follows, and reviews\n",
        "# Consider using box plots or violin plots to understand the spread\n",
        "# This will help you decide on a reasonable threshold for \"popularity\"\n",
        "\n",
        "# Write your code here:\n"
      ]
    },
    {
      "cell_type": "code",
      "execution_count": 12,
      "metadata": {},
      "outputs": [],
      "source": [
        "# TODO: Create a binary target variable for story popularity\n",
        "# Hint: You can use a threshold approach (e.g., stories above median favorites)\n",
        "# Or create a composite score combining multiple metrics\n",
        "# Name your target variable 'is_popular' (1 = popular, 0 = not popular)\n",
        "# Consider using np.where() or boolean indexing\n",
        "\n",
        "# Write your code here:\n"
      ]
    },
    {
      "cell_type": "code",
      "execution_count": 13,
      "metadata": {},
      "outputs": [],
      "source": [
        "# TODO: Check the distribution of your target variable\n",
        "# Hint: Use value_counts() to see how many stories are popular vs not popular\n",
        "# Also create a count plot to visualize the balance\n",
        "# Note: Perfect balance isn't required, but extreme imbalance (e.g., 95% in one class) can be problematic\n",
        "\n",
        "# Write your code here:\n"
      ]
    },
    {
      "cell_type": "markdown",
      "metadata": {},
      "source": [
        "## Phase 5: Feature Engineering - Interaction Terms\n",
        "\n",
        "**What are interaction terms?** They capture how the effect of one variable depends on the value of another variable. For example:\n",
        "- `harry × words`: Does the relationship between story length and popularity differ for Harry stories vs non-Harry stories?\n",
        "- `words × reviews`: Do longer stories get more reviews, and does this affect popularity?\n",
        "\n",
        "**Why do we need them?** Real-world relationships are often more complex than simple linear effects. Interaction terms help us model these complex relationships.\n"
      ]
    },
    {
      "cell_type": "code",
      "execution_count": 14,
      "metadata": {},
      "outputs": [],
      "source": [
        "# TODO: Create interaction terms between binary and quantitative variables\n",
        "# Hint: Multiply each binary variable (harry, hermione, multiple, english, humor) \n",
        "# with each quantitative variable (words, reviews, favorites, follows)\n",
        "# Use simple multiplication: binary_var * quantitative_var\n",
        "# Name them descriptively like 'harry_words', 'hermione_reviews', etc.\n",
        "\n",
        "# Write your code here:\n"
      ]
    },
    {
      "cell_type": "code",
      "execution_count": 15,
      "metadata": {},
      "outputs": [],
      "source": [
        "# TODO: Create interaction terms between quantitative variables\n",
        "# Hint: Multiply each pair of quantitative variables\n",
        "# Examples: words*reviews, words*favorites, reviews*follows, etc.\n",
        "# Be careful not to create redundant terms (words*reviews is the same as reviews*words)\n",
        "\n",
        "# Write your code here:\n"
      ]
    },
    {
      "cell_type": "code",
      "execution_count": 16,
      "metadata": {},
      "outputs": [],
      "source": [
        "# TODO: Create interaction terms between binary variables\n",
        "# Hint: Multiply each pair of binary variables\n",
        "# Examples: harry*hermione, harry*multiple, hermione*english, etc.\n",
        "# These capture whether certain combinations of characteristics are more popular\n",
        "\n",
        "# Write your code here:\n"
      ]
    },
    {
      "cell_type": "markdown",
      "metadata": {},
      "source": [
        "### Understanding Interaction Terms:\n",
        "**Binary × Quantitative:** If `harry_words` has a positive coefficient, it means Harry stories benefit more from being longer than non-Harry stories.\n",
        "\n",
        "**Quantitative × Quantitative:** If `words_reviews` has a positive coefficient, it means the effect of word count on popularity is stronger when there are more reviews.\n",
        "\n",
        "**Binary × Binary:** If `harry_hermione` has a positive coefficient, it means stories with both Harry and Hermione are more popular than you'd expect from just adding their individual effects.\n"
      ]
    },
    {
      "cell_type": "markdown",
      "metadata": {},
      "source": [
        "## Phase 6: Feature Engineering - Polynomial Terms\n",
        "\n",
        "**What are polynomial terms?** They capture non-linear relationships. A quadratic (squared) term can model relationships that curve upward or downward.\n",
        "\n",
        "**Why do we need them?** Sometimes the relationship between a variable and the outcome isn't straight-line. For example:\n",
        "- Very short stories might be unpopular (too brief)\n",
        "- Very long stories might also be unpopular (too long to read)\n",
        "- Medium-length stories might be most popular (sweet spot)\n",
        "\n",
        "This creates a curved (quadratic) relationship that linear terms alone can't capture.\n"
      ]
    },
    {
      "cell_type": "code",
      "execution_count": 17,
      "metadata": {},
      "outputs": [],
      "source": [
        "# TODO: Create quadratic (squared) terms for quantitative variables\n",
        "# Hint: Square each quantitative variable using ** 2 or np.square()\n",
        "# Create: words_squared, reviews_squared, favorites_squared, follows_squared\n",
        "# These will help capture non-linear relationships\n",
        "\n",
        "# Write your code here:\n"
      ]
    },
    {
      "cell_type": "code",
      "execution_count": 18,
      "metadata": {},
      "outputs": [],
      "source": [
        "# TODO: (Optional) Visualize original vs squared relationships\n",
        "# Hint: Create scatter plots showing the relationship between original variables and target\n",
        "# Then show the same for squared variables\n",
        "# This can help you see if the quadratic terms are capturing important patterns\n",
        "\n",
        "# Write your code here:\n"
      ]
    },
    {
      "cell_type": "markdown",
      "metadata": {},
      "source": [
        "## Phase 7: Model Building with StatsModels\n",
        "\n",
        "StatsModels provides detailed statistical output that's great for understanding your model. It gives you p-values, confidence intervals, and detailed diagnostics that help with interpretation.\n",
        "\n",
        "**Key difference:** StatsModels requires you to explicitly add a constant term (intercept) to your feature matrix.\n"
      ]
    },
    {
      "cell_type": "code",
      "execution_count": 19,
      "metadata": {},
      "outputs": [],
      "source": [
        "# TODO: Prepare your feature matrix and target variable\n",
        "# Hint: Create a DataFrame or array containing all your features:\n",
        "# - Original quantitative variables (words, reviews, favorites, follows)\n",
        "# - Original binary variables (harry, hermione, multiple, english, humor)\n",
        "# - All interaction terms you created\n",
        "# - All polynomial terms you created\n",
        "# Make sure to exclude the target variable from your features!\n",
        "\n",
        "# Write your code here:\n"
      ]
    },
    {
      "cell_type": "code",
      "execution_count": 20,
      "metadata": {},
      "outputs": [],
      "source": [
        "# TODO: Add constant term to your feature matrix\n",
        "# Hint: Use sm.add_constant() to add a column of 1s for the intercept\n",
        "# This is required for StatsModels logistic regression\n",
        "\n",
        "# Write your code here:\n"
      ]
    },
    {
      "cell_type": "code",
      "execution_count": 21,
      "metadata": {},
      "outputs": [],
      "source": [
        "# TODO: Fit the logistic regression model using StatsModels\n",
        "# Hint: Use sm.Logit() with your target variable and feature matrix\n",
        "# Then call .fit() to train the model\n",
        "# Store the result in a variable like 'model_stats'\n",
        "\n",
        "# Write your code here:\n"
      ]
    },
    {
      "cell_type": "code",
      "execution_count": 22,
      "metadata": {},
      "outputs": [],
      "source": [
        "# TODO: Display the model summary\n",
        "# Hint: Use .summary() method on your fitted model\n",
        "# This will show coefficients, p-values, confidence intervals, and model statistics\n",
        "\n",
        "# Write your code here:\n"
      ]
    },
    {
      "cell_type": "markdown",
      "metadata": {},
      "source": [
        "### Interpreting StatsModels Output:\n",
        "1. **Coefficients:** Show the log-odds change for a 1-unit increase in the predictor\n",
        "2. **P-values:** Indicate statistical significance (typically < 0.05)\n",
        "3. **Pseudo R-squared:** Measures model fit (higher is better, but don't expect values as high as in linear regression)\n",
        "4. **Log-likelihood:** Used for model comparison (higher is better)\n",
        "\n",
        "**Key insight:** Positive coefficients increase the probability of the outcome, negative coefficients decrease it.\n"
      ]
    },
    {
      "cell_type": "markdown",
      "metadata": {},
      "source": [
        "## Phase 8: Model Building with scikit-learn\n",
        "\n",
        "Scikit-learn is more focused on prediction and machine learning workflows. It's often easier to use for model evaluation and comparison, but provides less detailed statistical output.\n",
        "\n",
        "**Key differences from StatsModels:**\n",
        "- Automatically handles the intercept (no need to add constant)\n",
        "- Built-in train/test split and cross-validation tools\n",
        "- More machine learning focused (prediction vs. inference)\n"
      ]
    },
    {
      "cell_type": "code",
      "execution_count": 23,
      "metadata": {},
      "outputs": [],
      "source": [
        "# TODO: Split your data into training and testing sets\n",
        "# Hint: Use train_test_split() from sklearn.model_selection\n",
        "# Use a reasonable test size (e.g., 0.2 or 0.3)\n",
        "# Set random_state for reproducibility\n",
        "# Remember: you need to split both features and target\n",
        "\n",
        "# Write your code here:\n"
      ]
    },
    {
      "cell_type": "code",
      "execution_count": 24,
      "metadata": {},
      "outputs": [],
      "source": [
        "# TODO: Fit a logistic regression model using scikit-learn\n",
        "# Hint: Import LogisticRegression from sklearn.linear_model\n",
        "# Create a model instance and fit it on your training data\n",
        "# Note: You don't need to add a constant term - sklearn handles this automatically\n",
        "\n",
        "# Write your code here:\n"
      ]
    },
    {
      "cell_type": "code",
      "execution_count": 25,
      "metadata": {},
      "outputs": [],
      "source": [
        "# TODO: Make predictions on the test set\n",
        "# Hint: Use .predict() for binary predictions (0 or 1)\n",
        "# Use .predict_proba() to get probability scores\n",
        "# Store both types of predictions\n",
        "\n",
        "# Write your code here:\n"
      ]
    },
    {
      "cell_type": "code",
      "execution_count": 26,
      "metadata": {},
      "outputs": [],
      "source": [
        "# TODO: Evaluate your model performance\n",
        "# Hint: Import evaluation metrics from sklearn.metrics\n",
        "# Calculate: accuracy_score, confusion_matrix, classification_report\n",
        "# Also consider: roc_auc_score, precision_score, recall_score, f1_score\n",
        "\n",
        "# Write your code here:\n"
      ]
    },
    {
      "cell_type": "markdown",
      "metadata": {},
      "source": [
        "### Comparing StatsModels vs scikit-learn:\n",
        "1. **StatsModels:** Better for understanding relationships, hypothesis testing, detailed statistics\n",
        "2. **scikit-learn:** Better for prediction, model comparison, machine learning workflows\n",
        "3. **Coefficients:** Should be similar between both approaches (except for the intercept handling)\n",
        "4. **Use both:** StatsModels for interpretation, scikit-learn for evaluation and comparison\n"
      ]
    },
    {
      "cell_type": "markdown",
      "metadata": {},
      "source": [
        "## Phase 9: Model Comparison and Interpretation\n",
        "\n",
        "Now let's compare different models to understand the value of interaction and polynomial terms. We'll build a baseline model with only original features and compare it to our full model.\n"
      ]
    },
    {
      "cell_type": "code",
      "execution_count": 27,
      "metadata": {},
      "outputs": [],
      "source": [
        "# TODO: Build a baseline model with only original features (no interactions or polynomials)\n",
        "# Hint: Use only the original quantitative and binary variables\n",
        "# Fit this model using both StatsModels and scikit-learn\n",
        "# This will help you see the improvement from adding interaction and polynomial terms\n",
        "\n",
        "# Write your code here:\n"
      ]
    },
    {
      "cell_type": "code",
      "execution_count": 28,
      "metadata": {},
      "outputs": [],
      "source": [
        "# TODO: Compare model performance metrics\n",
        "# Hint: Calculate the same evaluation metrics for both baseline and full models\n",
        "# Compare: accuracy, AUC, precision, recall, F1-score\n",
        "# Create a comparison table or summary\n",
        "\n",
        "# Write your code here:\n"
      ]
    },
    {
      "cell_type": "code",
      "execution_count": 29,
      "metadata": {},
      "outputs": [],
      "source": [
        "# TODO: Identify the most significant interaction and polynomial terms\n",
        "# Hint: Look at the coefficients and p-values from your StatsModels output\n",
        "# Find terms with large coefficients and small p-values\n",
        "# Consider creating a summary of the top 5-10 most important terms\n",
        "\n",
        "# Write your code here:\n"
      ]
    },
    {
      "cell_type": "markdown",
      "metadata": {},
      "source": [
        "### Key Questions to Consider:\n",
        "1. **Which features matter most?** Look at the largest coefficients (in absolute value)\n",
        "2. **Are interactions helpful?** Compare baseline vs full model performance\n",
        "3. **Do polynomial terms capture important patterns?** Check if squared terms are significant\n",
        "4. **What makes a story popular?** Interpret the most significant coefficients in real-world terms\n",
        "\n",
        "**Example interpretation:** If `harry_words` has a positive coefficient, it means Harry stories benefit more from being longer than non-Harry stories.\n"
      ]
    },
    {
      "cell_type": "markdown",
      "metadata": {},
      "source": [
        "## Phase 10: Visualization of Results\n",
        "\n",
        "Visualizing your model results helps you understand performance and communicate findings effectively. Good visualizations can reveal patterns that numbers alone might miss.\n"
      ]
    },
    {
      "cell_type": "code",
      "execution_count": 30,
      "metadata": {},
      "outputs": [],
      "source": [
        "# TODO: Create ROC curve and calculate AUC\n",
        "# Hint: Use roc_curve() and auc() from sklearn.metrics\n",
        "# Plot the ROC curve using matplotlib\n",
        "# The AUC (Area Under Curve) measures how well your model separates the classes\n",
        "# AUC = 0.5 is random, AUC = 1.0 is perfect\n",
        "\n",
        "# Write your code here:\n"
      ]
    },
    {
      "cell_type": "code",
      "execution_count": 31,
      "metadata": {},
      "outputs": [],
      "source": [
        "# TODO: Visualize predicted probabilities distribution\n",
        "# Hint: Create histograms of predicted probabilities for each class (popular vs not popular)\n",
        "# Use your model's .predict_proba() output\n",
        "# This shows how confident your model is in its predictions\n",
        "\n",
        "# Write your code here:\n"
      ]
    },
    {
      "cell_type": "code",
      "execution_count": 32,
      "metadata": {},
      "outputs": [],
      "source": [
        "# TODO: Create a feature importance visualization\n",
        "# Hint: Plot the coefficients from your model (absolute values)\n",
        "# Focus on the top 10-15 most important features\n",
        "# Use a horizontal bar plot for easy reading\n",
        "# This helps identify which features drive predictions most\n",
        "\n",
        "# Write your code here:\n"
      ]
    },
    {
      "cell_type": "code",
      "execution_count": 33,
      "metadata": {},
      "outputs": [],
      "source": [
        "# TODO: Create a confusion matrix heatmap\n",
        "# Hint: Use seaborn's heatmap() to visualize your confusion matrix\n",
        "# Add annotations to show the actual numbers\n",
        "# This helps you see where your model makes mistakes\n",
        "\n",
        "# Write your code here:\n"
      ]
    },
    {
      "cell_type": "markdown",
      "metadata": {},
      "source": [
        "## Phase 11: Conclusion and Reflection\n",
        "\n",
        "Congratulations! You've completed a comprehensive logistic regression analysis with interaction and polynomial terms. Let's reflect on what you've learned and discovered.\n"
      ]
    },
    {
      "cell_type": "markdown",
      "metadata": {},
      "source": [
        "### Reflection Questions:\n",
        "\n",
        "1. **Model Performance:** How well did your model perform? What was your final accuracy and AUC?\n",
        "\n",
        "2. **Feature Importance:** Which features were most important for predicting story popularity? Did this match your initial expectations?\n",
        "\n",
        "3. **Interaction Terms:** Which interaction terms were most significant? What do they tell you about how different story characteristics work together?\n",
        "\n",
        "4. **Polynomial Terms:** Were any quadratic terms significant? What non-linear relationships did they capture?\n",
        "\n",
        "5. **Model Comparison:** How much did interaction and polynomial terms improve your model compared to the baseline?\n",
        "\n",
        "6. **Real-world Insights:** What insights can you draw about what makes Harry Potter fan fiction popular? Are there any surprising findings?\n",
        "\n",
        "7. **Limitations:** What are the limitations of your analysis? What other factors might affect story popularity that aren't in your dataset?\n",
        "\n",
        "8. **Next Steps:** If you were to continue this analysis, what would you do next? Consider:\n",
        "   - Regularization (L1/L2) to handle overfitting\n",
        "   - Feature selection to identify the most important predictors\n",
        "   - Cross-validation for more robust performance estimates\n",
        "   - Other algorithms (Random Forest, XGBoost) for comparison\n"
      ]
    },
    {
      "cell_type": "markdown",
      "metadata": {},
      "source": [
        "### Key Learning Takeaways:\n",
        "\n",
        "✅ **Interaction Terms:** You learned how to create and interpret interaction terms that capture how variables work together\n",
        "\n",
        "✅ **Polynomial Terms:** You discovered how quadratic terms can capture non-linear relationships\n",
        "\n",
        "✅ **StatsModels vs scikit-learn:** You compared two different approaches to logistic regression and understood their strengths\n",
        "\n",
        "✅ **Model Interpretation:** You learned to interpret coefficients, p-values, and model performance metrics\n",
        "\n",
        "✅ **Feature Engineering:** You practiced creating new features from existing ones to improve model performance\n",
        "\n",
        "✅ **Real-world Application:** You applied these techniques to a realistic dataset with complex relationships\n"
      ]
    },
    {
      "cell_type": "markdown",
      "metadata": {},
      "source": [
        "### Congratulations! 🎉\n",
        "\n",
        "You've successfully completed a comprehensive logistic regression analysis with advanced feature engineering techniques. These skills will serve you well in future machine learning projects where you need to model complex relationships in your data.\n",
        "\n",
        "**Remember:** The goal isn't just to build a model, but to understand the relationships in your data and extract meaningful insights that can inform real-world decisions.\n"
      ]
    }
  ],
  "metadata": {
    "kernelspec": {
      "display_name": "Codecademy ML",
      "language": "python",
      "name": "codeacademy"
    },
    "language_info": {
      "codemirror_mode": {
        "name": "ipython",
        "version": 3
      },
      "file_extension": ".py",
      "mimetype": "text/x-python",
      "name": "python",
      "nbconvert_exporter": "python",
      "pygments_lexer": "ipython3",
      "version": "3.11.7"
    }
  },
  "nbformat": 4,
  "nbformat_minor": 2
}
